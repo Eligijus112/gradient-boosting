{
 "cells": [
  {
   "cell_type": "markdown",
   "metadata": {},
   "source": [
    "# Importing packages "
   ]
  },
  {
   "cell_type": "code",
   "execution_count": null,
   "metadata": {},
   "outputs": [],
   "source": [
    "# OS traversal\n",
    "import os\n",
    "import shutil\n",
    "\n",
    "# System functionalities\n",
    "import sys\n",
    "\n",
    "# Adding the whole project to module paths\n",
    "module_path = os.path.abspath(os.path.join('..'))\n",
    "if module_path not in sys.path:\n",
    "    sys.path.append(module_path)\n",
    "\n",
    "# Data wrangling \n",
    "import pandas as pd \n",
    "\n",
    "# Ploting \n",
    "import matplotlib.pyplot as plt\n",
    "\n",
    "# Regression boosting\n",
    "from regression.boosting import RegressionGB\n",
    "\n",
    "# GIF building \n",
    "import imageio"
   ]
  },
  {
   "cell_type": "markdown",
   "metadata": {},
   "source": [
    "# Reading data "
   ]
  },
  {
   "cell_type": "code",
   "execution_count": null,
   "metadata": {},
   "outputs": [],
   "source": [
    "d = pd.read_csv('data/auto-mpg.csv')\n",
    "\n",
    "print(f\"Shape of data: {d.shape}\")"
   ]
  },
  {
   "cell_type": "code",
   "execution_count": null,
   "metadata": {},
   "outputs": [],
   "source": [
    "d.head(10)"
   ]
  },
  {
   "cell_type": "markdown",
   "metadata": {},
   "source": [
    "# Gradient boosting \n",
    "\n",
    "The $\\mathbb{Y}$ variable is mpg - miles per galon. \n",
    "\n",
    "The $\\mathbb{X}$ variable is the car weight."
   ]
  },
  {
   "cell_type": "code",
   "execution_count": null,
   "metadata": {},
   "outputs": [],
   "source": [
    "y = 'mpg'\n",
    "x = 'weight'\n",
    "\n",
    "# Ploting all the points \n",
    "plt.figure(figsize=(12, 8))\n",
    "plt.plot(d[x], d[y], 'o', label='original')\n",
    "\n",
    "# Defining the number of iterations\n",
    "_m_iterations = [\n",
    "    1, \n",
    "    20,\n",
    "    40,\n",
    "]\n",
    "\n",
    "for _m in _m_iterations:\n",
    "    # Initiating the tree\n",
    "    rgb = RegressionGB(\n",
    "        d,\n",
    "        y,\n",
    "        [x],\n",
    "        max_depth=3, \n",
    "        min_sample_leaf=10,\n",
    "        learning_rate=0.1,\n",
    "    )\n",
    "\n",
    "    # Fitting on data \n",
    "    rgb.fit(m=_m)\n",
    "\n",
    "    # Predicting \n",
    "    _input = [{x: y.get(x)} for y in d.to_dict('records')]\n",
    "    yhat = [rgb.predict(y) for y in _input]\n",
    "\n",
    "    # Saving the predictions to the training set \n",
    "    d['yhat'] = yhat\n",
    "\n",
    "    plt.plot(d[x], d['yhat'], 'o', label=f'{_m} iterations')\n",
    "    plt.title('mpg vs weight')\n",
    "\n",
    "plt.xlabel('weight')\n",
    "plt.ylabel('mpg')\n",
    "plt.legend()\n",
    "plt.show()"
   ]
  },
  {
   "cell_type": "markdown",
   "metadata": {},
   "source": [
    "# Multi input gradient boosting animation \n",
    "\n"
   ]
  },
  {
   "cell_type": "code",
   "execution_count": null,
   "metadata": {},
   "outputs": [],
   "source": [
    "# Defining the y_var \n",
    "_y_var = 'mpg'\n",
    "\n",
    "# Defining the features\n",
    "_x_vars = ['weight', 'acceleration']\n",
    "\n",
    "# Creating a tmp directory for gifs \n",
    "_tmp_dir = os.path.join('tmp')\n",
    "\n",
    "# Deleting all the previous runs\n",
    "if os.path.exists(_tmp_dir):\n",
    "    shutil.rmtree(_tmp_dir)\n",
    "\n",
    "# Creating\n",
    "os.mkdir(_tmp_dir) \n",
    "\n",
    "# Initiating the object \n",
    "_reg_gb = RegressionGB(\n",
    "    d = d,\n",
    "    y_var = _y_var,\n",
    "    x_vars = _x_vars,\n",
    "    max_depth = 2,\n",
    "    min_sample_leaf = 2,\n",
    "    learning_rate = 0.3,\n",
    ")\n",
    "\n",
    "# Number of iterations \n",
    "_n = 30\n",
    "\n",
    "for i in range(_n):\n",
    "    _filename = os.path.join(_tmp_dir, f\"frame_{i}.png\")\n",
    "    # Ploting the initial points and predictions\n",
    "    plt.figure(figsize=(12, 8))\n",
    "    if i > 0:\n",
    "        _reg_gb.fit(m=1)\n",
    "\n",
    "    plt.subplot(1, 2, 1)\n",
    "    plt.plot(d.weight, d[_y_var].values, 'o', label='original', alpha=0.5)\n",
    "    plt.scatter(d.weight, _reg_gb._predictions, edgecolors='black', label=f'predictions - iteration {i}', color='orange')\n",
    "    plt.xlabel('weight')\n",
    "    plt.ylabel('mpg')\n",
    "    plt.title(f'Gradient boosting results')\n",
    "    plt.legend()\n",
    "\n",
    "    plt.subplot(1, 2, 2)\n",
    "    plt.plot(d.acceleration, d[_y_var].values, 'o', label='original', alpha=0.55)\n",
    "    plt.scatter(d.acceleration, _reg_gb._predictions, edgecolors='black', label=f'predictions - iteration {i}', color='orange')\n",
    "    plt.xlabel('acceleration')\n",
    "    plt.ylabel('mpg')\n",
    "    plt.title(f'Gradient boosting results')\n",
    "    plt.legend()\n",
    "\n",
    "    plt.savefig(_filename)\n",
    "\n",
    "# Saving the gif\n",
    "_gif_dir = os.path.join('gif')\n",
    "if not os.path.exists(_gif_dir):\n",
    "    os.mkdir(_gif_dir)\n",
    "\n",
    "with imageio.get_writer(os.path.join(_gif_dir, 'RGB.gif'), mode='I', duration=0.4) as writer:\n",
    "    _files = [os.path.join(_tmp_dir, x) for x in os.listdir(_tmp_dir)]\n",
    "    _files.sort(key=lambda x: os.path.getmtime(x))\n",
    "    for filename in _files:\n",
    "        image = imageio.imread(filename)\n",
    "        writer.append_data(image)"
   ]
  },
  {
   "cell_type": "code",
   "execution_count": null,
   "metadata": {},
   "outputs": [],
   "source": []
  }
 ],
 "metadata": {
  "interpreter": {
   "hash": "6ef33a7182278443423e340f27610606495aac5570659a1cd21c4096ebf89e39"
  },
  "kernelspec": {
   "display_name": "Python 3.8.10 ('tree_env': venv)",
   "language": "python",
   "name": "python3"
  },
  "language_info": {
   "codemirror_mode": {
    "name": "ipython",
    "version": 3
   },
   "file_extension": ".py",
   "mimetype": "text/x-python",
   "name": "python",
   "nbconvert_exporter": "python",
   "pygments_lexer": "ipython3",
   "version": "3.8.10"
  },
  "orig_nbformat": 4
 },
 "nbformat": 4,
 "nbformat_minor": 2
}
