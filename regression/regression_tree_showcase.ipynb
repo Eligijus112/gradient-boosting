{
 "cells": [
  {
   "cell_type": "markdown",
   "metadata": {},
   "source": [
    "# Importing packages "
   ]
  },
  {
   "cell_type": "code",
   "execution_count": null,
   "metadata": {},
   "outputs": [],
   "source": [
    "# Data wrangling \n",
    "import pandas as pd \n",
    "\n",
    "# Ploting \n",
    "import matplotlib.pyplot as plt\n",
    "\n",
    "# Weak base learner \n",
    "from tree import Tree"
   ]
  },
  {
   "cell_type": "markdown",
   "metadata": {},
   "source": [
    "# Reading data "
   ]
  },
  {
   "cell_type": "code",
   "execution_count": null,
   "metadata": {},
   "outputs": [],
   "source": [
    "d = pd.read_csv('data/auto-mpg.csv')"
   ]
  },
  {
   "cell_type": "code",
   "execution_count": null,
   "metadata": {},
   "outputs": [],
   "source": [
    "d.head(10)"
   ]
  },
  {
   "cell_type": "markdown",
   "metadata": {},
   "source": [
    "# Ploting the data \n",
    "\n",
    "The $\\mathbb{Y}$ variable is mpg - miles per galon. \n",
    "\n",
    "The $\\mathbb{X}$ variable is the car weight."
   ]
  },
  {
   "cell_type": "code",
   "execution_count": null,
   "metadata": {},
   "outputs": [],
   "source": [
    "y = 'mpg'\n",
    "x = 'weight'\n",
    "\n",
    "plt.figure(figsize=(12, 8))\n",
    "plt.plot(d[x], d[y], 'o')\n",
    "plt.title('mpg vs weight')\n",
    "plt.xlabel('weight')\n",
    "plt.ylabel('mpg')\n",
    "plt.show()"
   ]
  },
  {
   "cell_type": "markdown",
   "metadata": {},
   "source": [
    "# Fitting a regression tree "
   ]
  },
  {
   "cell_type": "code",
   "execution_count": null,
   "metadata": {},
   "outputs": [],
   "source": [
    "# Initiating the tree\n",
    "reg = Tree(\n",
    "    d,\n",
    "    y,\n",
    "    [x],\n",
    "    max_depth=2\n",
    ")\n",
    "\n",
    "# Fitting on data \n",
    "reg.fit()\n",
    "\n",
    "# Printing out the tree\n",
    "reg.print_tree()"
   ]
  },
  {
   "cell_type": "code",
   "execution_count": null,
   "metadata": {},
   "outputs": [],
   "source": [
    "# Predicting \n",
    "_input = [{x: y.get(x)} for y in d.to_dict('records')]\n",
    "yhat = [reg.predict(y) for y in _input]\n",
    "\n",
    "# Saving the predictions to the training set \n",
    "d['yhat'] = yhat\n",
    "\n",
    "# Ploting all the points \n",
    "plt.figure(figsize=(12, 8))\n",
    "plt.plot(d[x], d[y], 'o', label='original')\n",
    "plt.plot(d[x], d['yhat'], 'o', label='predicted')\n",
    "plt.title('mpg vs weight')\n",
    "plt.xlabel('weight')\n",
    "plt.ylabel('mpg')\n",
    "plt.legend()\n",
    "plt.show()"
   ]
  },
  {
   "cell_type": "code",
   "execution_count": null,
   "metadata": {},
   "outputs": [],
   "source": []
  }
 ],
 "metadata": {
  "interpreter": {
   "hash": "6ef33a7182278443423e340f27610606495aac5570659a1cd21c4096ebf89e39"
  },
  "kernelspec": {
   "display_name": "Python 3.8.10 ('tree_env': venv)",
   "language": "python",
   "name": "python3"
  },
  "language_info": {
   "codemirror_mode": {
    "name": "ipython",
    "version": 3
   },
   "file_extension": ".py",
   "mimetype": "text/x-python",
   "name": "python",
   "nbconvert_exporter": "python",
   "pygments_lexer": "ipython3",
   "version": "3.8.10"
  },
  "orig_nbformat": 4
 },
 "nbformat": 4,
 "nbformat_minor": 2
}
